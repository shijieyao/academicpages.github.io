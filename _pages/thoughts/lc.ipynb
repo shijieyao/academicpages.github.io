{
 "cells": [
  {
   "cell_type": "markdown",
   "metadata": {},
   "source": [
    "<h2>Dynamic Programming</h2>\n",
    "\n",
    "_reminds me of the Fibonacci sequence_"
   ]
  },
  {
   "cell_type": "markdown",
   "metadata": {},
   "source": [
    "70 Climbing Stairs\n",
    "\n",
    "https://leetcode.com/problems/climbing-stairs/description/\n",
    "\n",
    "You are climbing a stair case. It takes n steps to reach to the top.\n",
    "\n",
    "Each time you can either climb 1 or 2 steps. In how many distinct ways can you climb to the top?\n",
    "\n",
    "Note: Given n will be a positive integer.\n",
    "\n",
    "Example 1:\n",
    "\n",
    "    Input: 2\n",
    "    Output: 2\n",
    "    Explanation: There are two ways to climb to the top.\n",
    "    1. 1 step + 1 step\n",
    "    2. 2 steps\n",
    "\n",
    "Example 2:\n",
    "\n",
    "    Input: 3\n",
    "    Output: 3\n",
    "    Explanation: There are three ways to climb to the top.\n",
    "    1. 1 step + 1 step + 1 step\n",
    "    2. 1 step + 2 steps\n",
    "    3. 2 steps + 1 step\n"
   ]
  },
  {
   "cell_type": "code",
   "execution_count": 5,
   "metadata": {},
   "outputs": [],
   "source": [
    "class Solution:\n",
    "    def climbStairs(self, n):\n",
    "        \"\"\"\n",
    "        :type n: int\n",
    "        :rtype: int\n",
    "        \"\"\"\n",
    "        if n ==  0 or 1:\n",
    "            return 1\n",
    "        else:\n",
    "            stairs = [1, 2]\n",
    "            for s in range(2, n):\n",
    "                stairs.append(stairs[s - 1] + stairs[s - 2])\n",
    "            return stairs[-1]"
   ]
  },
  {
   "cell_type": "markdown",
   "metadata": {},
   "source": [
    "Or even, initiate `stairs` as `[0, 1, 2]`, then `stairs[n]` would be the total steps needed to climb up to step `n`; meanwhile, change the range as `range(3, n+1)`."
   ]
  },
  {
   "cell_type": "markdown",
   "metadata": {},
   "source": [
    "Extension: climb at most `m` steps every time"
   ]
  },
  {
   "cell_type": "code",
   "execution_count": 7,
   "metadata": {},
   "outputs": [],
   "source": [
    "#TODO\n",
    "class Solution:\n",
    "    def climbStairs(self, m, n):\n",
    "        \"\"\"\n",
    "        :type n: int\n",
    "        :rtype: int\n",
    "        \"\"\"\n",
    "        l = range(0, m)\n",
    "        if n in l:\n",
    "            return 1\n",
    "        else:\n",
    "            stairs = [1, 2]\n",
    "            for s in range(2, n):\n",
    "                stairs.append(stairs[s - 1] + stairs[s - 2])\n",
    "            return stairs[-1]"
   ]
  },
  {
   "cell_type": "markdown",
   "metadata": {},
   "source": [
    "No problems could be _hard-coded_. Always think from the simplest situation, e.g. here, climb at most `1, 2, 3, ..., m` steps"
   ]
  },
  {
   "cell_type": "code",
   "execution_count": null,
   "metadata": {},
   "outputs": [],
   "source": []
  },
  {
   "cell_type": "markdown",
   "metadata": {},
   "source": [
    "811 Subdomain Visit Count\n",
    "\n",
    "https://leetcode.com/problems/subdomain-visit-count/description/\n",
    "\n",
    "A website domain like \"discuss.leetcode.com\" consists of various subdomains. At the top level, we have \"com\", at the next level, we have \"leetcode.com\", and at the lowest level, \"discuss.leetcode.com\". When we visit a domain like \"discuss.leetcode.com\", we will also visit the parent domains \"leetcode.com\" and \"com\" implicitly.\n",
    "\n",
    "Now, call a \"count-paired domain\" to be a count (representing the number of visits this domain received), followed by a space, followed by the address. An example of a count-paired domain might be \"9001 discuss.leetcode.com\".\n",
    "\n",
    "We are given a list `cpdomains` of count-paired domains. We would like a list of count-paired domains, (in the same format as the input, and in any order), that explicitly counts the number of visits to each subdomain.\n",
    "\n",
    "Example 1:\n",
    "\n",
    "    Input: \n",
    "    [\"9001 discuss.leetcode.com\"]\n",
    "    Output: \n",
    "    [\"9001 discuss.leetcode.com\", \"9001 leetcode.com\", \"9001 com\"]\n",
    "    Explanation: \n",
    "    We only have one website domain: \"discuss.leetcode.com\". As discussed above, the subdomain \"leetcode.com\" and \"com\" will also be visited. So they will all be visited 9001 times.\n",
    "\n",
    "Example 2:\n",
    "\n",
    "    Input: \n",
    "    [\"900 google.mail.com\", \"50 yahoo.com\", \"1 intel.mail.com\", \"5 wiki.org\"]\n",
    "    Output: \n",
    "    [\"901 mail.com\",\"50 yahoo.com\",\"900 google.mail.com\",\"5 wiki.org\",\"5 org\",\"1 intel.mail.com\",\"951 com\"]\n",
    "    Explanation: \n",
    "    We will visit \"google.mail.com\" 900 times, \"yahoo.com\" 50 times, \"intel.mail.com\" once and \"wiki.org\" 5 times. For the subdomains, we will visit \"mail.com\" 900 + 1 = 901 times, \"com\" 900 + 50 + 1 = 951 times, and \"org\" 5 times."
   ]
  },
  {
   "cell_type": "code",
   "execution_count": 70,
   "metadata": {},
   "outputs": [
    {
     "name": "stdout",
     "output_type": "stream",
     "text": [
      "['9001 com', '9001 leetcode.com', '9001 discuss.leetcode.com']\n"
     ]
    }
   ],
   "source": [
    "def subdomainVisits(cpdomains):\n",
    "    d = {}\n",
    "    for i in cpdomains:\n",
    "        sub = i.split(' ')[-1].split('.')\n",
    "        num = i.split(' ')[0]\n",
    "        allsub = []\n",
    "        for m in range(len(sub) - 1, -1, -1):\n",
    "            allsub.append(sub[m:len(i)])\n",
    "        allsub = ['.'.join(i) if len(i) > 1 else i[0] for i in allsub]\n",
    "        for sub in allsub:\n",
    "            try:\n",
    "                d[sub] += int(num) # if not changed into int, would be string concatenation\n",
    "            except:\n",
    "                d[sub] = int(num) # ditto\n",
    "    return [str(num) + ' ' + sub for sub, num in d.items()]"
   ]
  },
  {
   "cell_type": "code",
   "execution_count": null,
   "metadata": {},
   "outputs": [],
   "source": []
  },
  {
   "cell_type": "code",
   "execution_count": null,
   "metadata": {},
   "outputs": [],
   "source": []
  },
  {
   "cell_type": "code",
   "execution_count": null,
   "metadata": {},
   "outputs": [],
   "source": []
  },
  {
   "cell_type": "code",
   "execution_count": null,
   "metadata": {},
   "outputs": [],
   "source": []
  },
  {
   "cell_type": "markdown",
   "metadata": {},
   "source": [
    "<h2>Random</h2>"
   ]
  },
  {
   "cell_type": "markdown",
   "metadata": {},
   "source": [
    "832 Flipping an Image\n",
    "https://leetcode.com/problems/flipping-an-image/description/\n",
    "Given a binary matrix A, we want to flip the image horizontally, then invert it, and return the resulting image.\n",
    "\n",
    "To flip an image horizontally means that each row of the image is reversed.  For example, flipping [1, 1, 0] horizontally results in [0, 1, 1].\n",
    "\n",
    "To invert an image means that each 0 is replaced by 1, and each 1 is replaced by 0. For example, inverting [0, 1, 1] results in [1, 0, 0].\n",
    "\n",
    "Example 1:\n",
    "\n",
    "    Input: [[1,1,0],[1,0,1],[0,0,0]]\n",
    "    Output: [[1,0,0],[0,1,0],[1,1,1]]\n",
    "    Explanation: First reverse each row: [[0,1,1],[1,0,1],[0,0,0]].\n",
    "    Then, invert the image: [[1,0,0],[0,1,0],[1,1,1]]\n",
    "\n",
    "Example 2:\n",
    "\n",
    "    Input: [[1,1,0,0],[1,0,0,1],[0,1,1,1],[1,0,1,0]]\n",
    "    Output: [[1,1,0,0],[0,1,1,0],[0,0,0,1],[1,0,1,0]]\n",
    "    Explanation: First reverse each row: [[0,0,1,1],[1,0,0,1],[1,1,1,0],[0,1,0,1]].\n",
    "    Then invert the image: [[1,1,0,0],[0,1,1,0],[0,0,0,1],[1,0,1,0]]\n",
    "\n",
    "Notes:\n",
    "\n",
    "    1 <= A.length = A[0].length <= 20\n",
    "    0 <= A[i][j] <= 1"
   ]
  },
  {
   "cell_type": "code",
   "execution_count": 76,
   "metadata": {},
   "outputs": [],
   "source": [
    "def flipAndInvertImage(A):\n",
    "    \"\"\"\n",
    "    :type A: List[List[int]]\n",
    "    :rtype: List[List[int]]\n",
    "    \"\"\"\n",
    "    for row in A:\n",
    "        for i in range((len(row) + 1 )// 2 ):\n",
    "            row[i], row[~i] = row[~i] ^ 1, row[i] ^ 1\n",
    "    return A"
   ]
  },
  {
   "cell_type": "code",
   "execution_count": 77,
   "metadata": {},
   "outputs": [
    {
     "data": {
      "text/plain": [
       "[[1, 0, 0], [0, 1, 0], [1, 1, 1]]"
      ]
     },
     "execution_count": 77,
     "metadata": {},
     "output_type": "execute_result"
    }
   ],
   "source": [
    "flipAndInvertImage([[1,1,0],[1,0,1],[0,0,0]])"
   ]
  },
  {
   "cell_type": "markdown",
   "metadata": {},
   "source": [
    "Takeaway: be familiar with bitwise operators"
   ]
  },
  {
   "cell_type": "markdown",
   "metadata": {},
   "source": [
    "283 Move Zeroes\n",
    "\n",
    "https://leetcode.com/problems/move-zeroes/description/\n",
    "\n",
    "Given an array nums, write a function to move all 0's to the end of it while maintaining the relative order of the non-zero elements.\n",
    "\n",
    "Example:\n",
    "\n",
    "    Input: [0,1,0,3,12]\n",
    "    Output: [1,3,12,0,0]\n",
    "\n",
    "Note:\n",
    "\n",
    "You must do this **in-place** without making a copy of the array.\n",
    "\n",
    "Minimize the total number of operations."
   ]
  },
  {
   "cell_type": "code",
   "execution_count": 16,
   "metadata": {},
   "outputs": [],
   "source": [
    "def moveZeroes(nums):\n",
    "    \"\"\"\n",
    "    :type nums: List[int]\n",
    "    :rtype: void Do not return anything, modify nums in-place instead.\n",
    "    \"\"\"\n",
    "    j = 0\n",
    "    for n in nums:\n",
    "        if n != 0:\n",
    "            nums[j] = n\n",
    "            j += 1  \n",
    "    for i in range(j, len(nums)):\n",
    "        nums[i] = 0"
   ]
  },
  {
   "cell_type": "code",
   "execution_count": 21,
   "metadata": {},
   "outputs": [
    {
     "name": "stdout",
     "output_type": "stream",
     "text": [
      "[1, 3, 12, 0, 0, 0]\n"
     ]
    }
   ],
   "source": [
    "# others\n",
    "nums = [0,1,0,0,3,12]\n",
    "\n",
    "j = 0\n",
    "for i in range(len(nums)):\n",
    "    if nums[i] != 0:\n",
    "        nums[j], nums[i] = nums[i], nums[j]\n",
    "        j += 1\n",
    "print(nums)"
   ]
  },
  {
   "cell_type": "markdown",
   "metadata": {},
   "source": [
    "Takeaway: **inplace** operation, append and extend not allowed"
   ]
  },
  {
   "cell_type": "markdown",
   "metadata": {},
   "source": [
    "3 Longest Substring Without Repeating Characters\n",
    "\n",
    "https://leetcode.com/problems/longest-substring-without-repeating-characters/description/\n",
    "\n",
    "Given a string, find the length of the longest substring without repeating characters.\n",
    "\n",
    "Examples:\n",
    "\n",
    "Given \"abcabcbb\", the answer is \"abc\", which the length is 3.\n",
    "\n",
    "Given \"bbbbb\", the answer is \"b\", with the length of 1.\n",
    "\n",
    "Given \"pwwkew\", the answer is \"wke\", with the length of 3. Note that the answer must be a substring, \"pwke\" is a subsequence and not a substring."
   ]
  },
  {
   "cell_type": "code",
   "execution_count": null,
   "metadata": {},
   "outputs": [],
   "source": [
    "def lengthOfLongestSubstring(s):\n",
    "    i, best, ind = 0, 0, {}\n",
    "    for idx, char in enumerate(s):\n",
    "        if char in ind and ind[char] >= i:\n",
    "            i = ind[char] + 1\n",
    "        ind[char], best = idx, max(best, idx-i+1)\n",
    "    return best\n",
    "lengthOfLongestSubstring('pwwkew')"
   ]
  },
  {
   "cell_type": "code",
   "execution_count": null,
   "metadata": {},
   "outputs": [],
   "source": [
    "# others\n",
    "s = 'pwwkew'\n",
    "begin = answer = 0\n",
    "chars = {}\n",
    "for i, char in enumerate(s, 1):\n",
    "    if char in chars and chars[char] > begin:\n",
    "        begin = chars[c]\n",
    "    answer = max(answer, i-begin+1)\n",
    "    chars[char] = i\n",
    "print(result)"
   ]
  },
  {
   "cell_type": "markdown",
   "metadata": {},
   "source": [
    "121 Best Time to Buy and Sell Stock\n",
    "\n",
    "https://leetcode.com/problems/best-time-to-buy-and-sell-stock/description/\n",
    "\n",
    "Say you have an array for which the ith element is the price of a given stock on day i.\n",
    "\n",
    "If you were only permitted to complete at most one transaction (i.e., buy one and sell one share of the stock), design an algorithm to find the maximum profit.\n",
    "\n",
    "Note that you cannot sell a stock before you buy one.\n",
    "\n",
    "Example 1:\n",
    "\n",
    "    Input: [7,1,5,3,6,4]\n",
    "    Output: 5\n",
    "    Explanation: Buy on day 2 (price = 1) and sell on day 5 (price = 6), profit = 6-1 = 5. Not 7-1 = 6, as selling price needs to be larger than buying price.\n",
    "    \n",
    "Example 2:\n",
    "\n",
    "    Input: [7,6,4,3,1]\n",
    "    Output: 0\n",
    "    Explanation: In this case, no transaction is done, i.e. max profit = 0."
   ]
  },
  {
   "cell_type": "code",
   "execution_count": 61,
   "metadata": {},
   "outputs": [
    {
     "ename": "ValueError",
     "evalue": "max() arg is an empty sequence",
     "output_type": "error",
     "traceback": [
      "\u001b[0;31m---------------------------------------------------------------------------\u001b[0m",
      "\u001b[0;31mValueError\u001b[0m                                Traceback (most recent call last)",
      "\u001b[0;32m<ipython-input-61-e151c31d2eda>\u001b[0m in \u001b[0;36m<module>\u001b[0;34m()\u001b[0m\n\u001b[1;32m      6\u001b[0m \u001b[0mbuy_i\u001b[0m \u001b[0;34m=\u001b[0m \u001b[0ml\u001b[0m\u001b[0;34m.\u001b[0m\u001b[0mindex\u001b[0m\u001b[0;34m(\u001b[0m\u001b[0mbuy\u001b[0m\u001b[0;34m)\u001b[0m\u001b[0;34m\u001b[0m\u001b[0m\n\u001b[1;32m      7\u001b[0m \u001b[0mnew_l\u001b[0m \u001b[0;34m=\u001b[0m \u001b[0ml\u001b[0m\u001b[0;34m[\u001b[0m\u001b[0mbuy_i\u001b[0m\u001b[0;34m+\u001b[0m\u001b[0;36m1\u001b[0m\u001b[0;34m:\u001b[0m\u001b[0;34m]\u001b[0m\u001b[0;34m\u001b[0m\u001b[0m\n\u001b[0;32m----> 8\u001b[0;31m \u001b[0msell\u001b[0m \u001b[0;34m=\u001b[0m \u001b[0mmax\u001b[0m\u001b[0;34m(\u001b[0m\u001b[0mnew_l\u001b[0m\u001b[0;34m)\u001b[0m\u001b[0;34m\u001b[0m\u001b[0m\n\u001b[0m\u001b[1;32m      9\u001b[0m \u001b[0msell_i\u001b[0m \u001b[0;34m=\u001b[0m \u001b[0mnew_l\u001b[0m\u001b[0;34m.\u001b[0m\u001b[0mindex\u001b[0m\u001b[0;34m(\u001b[0m\u001b[0mmax\u001b[0m\u001b[0;34m(\u001b[0m\u001b[0mnew_l\u001b[0m\u001b[0;34m)\u001b[0m\u001b[0;34m)\u001b[0m \u001b[0;34m+\u001b[0m \u001b[0mbuy_i\u001b[0m\u001b[0;34m+\u001b[0m\u001b[0;36m1\u001b[0m\u001b[0;34m\u001b[0m\u001b[0m\n\u001b[1;32m     10\u001b[0m \u001b[0mprint\u001b[0m\u001b[0;34m(\u001b[0m\u001b[0msell\u001b[0m\u001b[0;34m-\u001b[0m\u001b[0mbuy\u001b[0m\u001b[0;34m)\u001b[0m\u001b[0;34m\u001b[0m\u001b[0m\n",
      "\u001b[0;31mValueError\u001b[0m: max() arg is an empty sequence"
     ]
    }
   ],
   "source": [
    "l = [7,6,4,3,1]\n",
    "buy = sell = 0\n",
    "buy_i = sell_i = 0\n",
    "buy = min(l)\n",
    "\n",
    "buy_i = l.index(buy)\n",
    "new_l = l[buy_i+1:]\n",
    "sell = max(new_l)\n",
    "sell_i = new_l.index(max(new_l)) + buy_i+1\n",
    "print(sell-buy)"
   ]
  },
  {
   "cell_type": "code",
   "execution_count": null,
   "metadata": {},
   "outputs": [],
   "source": []
  },
  {
   "cell_type": "code",
   "execution_count": null,
   "metadata": {},
   "outputs": [],
   "source": []
  }
 ],
 "metadata": {
  "kernelspec": {
   "display_name": "Python 3",
   "language": "python",
   "name": "python3"
  },
  "language_info": {
   "codemirror_mode": {
    "name": "ipython",
    "version": 3
   },
   "file_extension": ".py",
   "mimetype": "text/x-python",
   "name": "python",
   "nbconvert_exporter": "python",
   "pygments_lexer": "ipython3",
   "version": "3.6.3"
  }
 },
 "nbformat": 4,
 "nbformat_minor": 2
}
