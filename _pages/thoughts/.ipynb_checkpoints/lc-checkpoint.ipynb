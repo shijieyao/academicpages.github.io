{
 "cells": [
  {
   "cell_type": "markdown",
   "metadata": {},
   "source": [
    "<h2>Dynamic Programming</h2>\n",
    "\n",
    "_reminds me of the Fibonacci sequence_"
   ]
  },
  {
   "cell_type": "markdown",
   "metadata": {},
   "source": [
    "70 Climbing Stairs\n",
    "\n",
    "https://leetcode.com/problems/climbing-stairs/description/\n",
    "\n",
    "You are climbing a stair case. It takes n steps to reach to the top.\n",
    "\n",
    "Each time you can either climb 1 or 2 steps. In how many distinct ways can you climb to the top?\n",
    "\n",
    "Note: Given n will be a positive integer.\n",
    "\n",
    "Example 1:\n",
    "\n",
    "    Input: 2\n",
    "    Output: 2\n",
    "    Explanation: There are two ways to climb to the top.\n",
    "    1. 1 step + 1 step\n",
    "    2. 2 steps\n",
    "\n",
    "Example 2:\n",
    "\n",
    "    Input: 3\n",
    "    Output: 3\n",
    "    Explanation: There are three ways to climb to the top.\n",
    "    1. 1 step + 1 step + 1 step\n",
    "    2. 1 step + 2 steps\n",
    "    3. 2 steps + 1 step\n"
   ]
  },
  {
   "cell_type": "code",
   "execution_count": 5,
   "metadata": {},
   "outputs": [],
   "source": [
    "class Solution:\n",
    "    def climbStairs(self, n):\n",
    "        \"\"\"\n",
    "        :type n: int\n",
    "        :rtype: int\n",
    "        \"\"\"\n",
    "        if n ==  0 or 1:\n",
    "            return 1\n",
    "        else:\n",
    "            stairs = [1, 2]\n",
    "            for s in range(2, n):\n",
    "                stairs.append(stairs[s - 1] + stairs[s - 2])\n",
    "            return stairs[-1]"
   ]
  },
  {
   "cell_type": "markdown",
   "metadata": {},
   "source": [
    "Or even, initiate `stairs` as `[0, 1, 2]`, then `stairs[n]` would be the total steps needed to climb up to step `n`; meanwhile, change the range as `range(3, n+1)`."
   ]
  },
  {
   "cell_type": "markdown",
   "metadata": {},
   "source": [
    "Extension: climb at most `m` steps every time"
   ]
  },
  {
   "cell_type": "code",
   "execution_count": 7,
   "metadata": {},
   "outputs": [],
   "source": [
    "#TODO\n",
    "class Solution:\n",
    "    def climbStairs(self, m, n):\n",
    "        \"\"\"\n",
    "        :type n: int\n",
    "        :rtype: int\n",
    "        \"\"\"\n",
    "        l = range(0, m)\n",
    "        if n in l:\n",
    "            return 1\n",
    "        else:\n",
    "            stairs = [1, 2]\n",
    "            for s in range(2, n):\n",
    "                stairs.append(stairs[s - 1] + stairs[s - 2])\n",
    "            return stairs[-1]"
   ]
  },
  {
   "cell_type": "markdown",
   "metadata": {},
   "source": [
    "No problems could be _hard-coded_. Always think from the simplest situation, e.g. here, climb at most `1, 2, 3, ..., m` steps"
   ]
  },
  {
   "cell_type": "code",
   "execution_count": null,
   "metadata": {},
   "outputs": [],
   "source": []
  },
  {
   "cell_type": "markdown",
   "metadata": {},
   "source": [
    "811 Subdomain Visit Count\n",
    "\n",
    "https://leetcode.com/problems/subdomain-visit-count/description/\n",
    "\n",
    "A website domain like \"discuss.leetcode.com\" consists of various subdomains. At the top level, we have \"com\", at the next level, we have \"leetcode.com\", and at the lowest level, \"discuss.leetcode.com\". When we visit a domain like \"discuss.leetcode.com\", we will also visit the parent domains \"leetcode.com\" and \"com\" implicitly.\n",
    "\n",
    "Now, call a \"count-paired domain\" to be a count (representing the number of visits this domain received), followed by a space, followed by the address. An example of a count-paired domain might be \"9001 discuss.leetcode.com\".\n",
    "\n",
    "We are given a list `cpdomains` of count-paired domains. We would like a list of count-paired domains, (in the same format as the input, and in any order), that explicitly counts the number of visits to each subdomain.\n",
    "\n",
    "Example 1:\n",
    "\n",
    "    Input: \n",
    "    [\"9001 discuss.leetcode.com\"]\n",
    "    Output: \n",
    "    [\"9001 discuss.leetcode.com\", \"9001 leetcode.com\", \"9001 com\"]\n",
    "    Explanation: \n",
    "    We only have one website domain: \"discuss.leetcode.com\". As discussed above, the subdomain \"leetcode.com\" and \"com\" will also be visited. So they will all be visited 9001 times.\n",
    "\n",
    "Example 2:\n",
    "\n",
    "    Input: \n",
    "    [\"900 google.mail.com\", \"50 yahoo.com\", \"1 intel.mail.com\", \"5 wiki.org\"]\n",
    "    Output: \n",
    "    [\"901 mail.com\",\"50 yahoo.com\",\"900 google.mail.com\",\"5 wiki.org\",\"5 org\",\"1 intel.mail.com\",\"951 com\"]\n",
    "    Explanation: \n",
    "    We will visit \"google.mail.com\" 900 times, \"yahoo.com\" 50 times, \"intel.mail.com\" once and \"wiki.org\" 5 times. For the subdomains, we will visit \"mail.com\" 900 + 1 = 901 times, \"com\" 900 + 50 + 1 = 951 times, and \"org\" 5 times."
   ]
  },
  {
   "cell_type": "code",
   "execution_count": 70,
   "metadata": {},
   "outputs": [
    {
     "name": "stdout",
     "output_type": "stream",
     "text": [
      "['9001 com', '9001 leetcode.com', '9001 discuss.leetcode.com']\n"
     ]
    }
   ],
   "source": [
    "def subdomainVisits(cpdomains):\n",
    "    d = {}\n",
    "    for i in cpdomains:\n",
    "        sub = i.split(' ')[-1].split('.')\n",
    "        num = i.split(' ')[0]\n",
    "        allsub = []\n",
    "        for m in range(len(sub) - 1, -1, -1):\n",
    "            allsub.append(sub[m:len(i)])\n",
    "        allsub = ['.'.join(i) if len(i) > 1 else i[0] for i in allsub]\n",
    "        for sub in allsub:\n",
    "            try:\n",
    "                d[sub] += int(num) # if not changed into int, would be string concatenation\n",
    "            except:\n",
    "                d[sub] = int(num) # ditto\n",
    "    return [str(num) + ' ' + sub for sub, num in d.items()]"
   ]
  },
  {
   "cell_type": "code",
   "execution_count": null,
   "metadata": {},
   "outputs": [],
   "source": []
  }
 ],
 "metadata": {
  "kernelspec": {
   "display_name": "Python 3",
   "language": "python",
   "name": "python3"
  },
  "language_info": {
   "codemirror_mode": {
    "name": "ipython",
    "version": 3
   },
   "file_extension": ".py",
   "mimetype": "text/x-python",
   "name": "python",
   "nbconvert_exporter": "python",
   "pygments_lexer": "ipython3",
   "version": "3.6.3"
  }
 },
 "nbformat": 4,
 "nbformat_minor": 2
}
